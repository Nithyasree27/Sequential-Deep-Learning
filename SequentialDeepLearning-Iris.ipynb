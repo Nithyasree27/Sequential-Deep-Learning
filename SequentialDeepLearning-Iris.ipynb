{
 "cells": [
  {
   "cell_type": "code",
   "execution_count": 14,
   "id": "363e414e",
   "metadata": {},
   "outputs": [],
   "source": [
    "import pandas as pd\n",
    "import numpy as np\n",
    "from scipy import stats\n",
    "import matplotlib.pyplot as plt\n",
    "import seaborn as sns\n",
    "import statsmodels.api as sm"
   ]
  },
  {
   "cell_type": "code",
   "execution_count": 15,
   "id": "2a9218bc",
   "metadata": {},
   "outputs": [
    {
     "data": {
      "text/html": [
       "<div>\n",
       "<style scoped>\n",
       "    .dataframe tbody tr th:only-of-type {\n",
       "        vertical-align: middle;\n",
       "    }\n",
       "\n",
       "    .dataframe tbody tr th {\n",
       "        vertical-align: top;\n",
       "    }\n",
       "\n",
       "    .dataframe thead th {\n",
       "        text-align: right;\n",
       "    }\n",
       "</style>\n",
       "<table border=\"1\" class=\"dataframe\">\n",
       "  <thead>\n",
       "    <tr style=\"text-align: right;\">\n",
       "      <th></th>\n",
       "      <th>sepal.length</th>\n",
       "      <th>sepal.width</th>\n",
       "      <th>petal.length</th>\n",
       "      <th>petal.width</th>\n",
       "      <th>variety</th>\n",
       "    </tr>\n",
       "  </thead>\n",
       "  <tbody>\n",
       "    <tr>\n",
       "      <th>0</th>\n",
       "      <td>5.1</td>\n",
       "      <td>3.5</td>\n",
       "      <td>1.4</td>\n",
       "      <td>0.2</td>\n",
       "      <td>Setosa</td>\n",
       "    </tr>\n",
       "    <tr>\n",
       "      <th>1</th>\n",
       "      <td>4.9</td>\n",
       "      <td>3.0</td>\n",
       "      <td>1.4</td>\n",
       "      <td>0.2</td>\n",
       "      <td>Setosa</td>\n",
       "    </tr>\n",
       "    <tr>\n",
       "      <th>2</th>\n",
       "      <td>4.7</td>\n",
       "      <td>3.2</td>\n",
       "      <td>1.3</td>\n",
       "      <td>0.2</td>\n",
       "      <td>Setosa</td>\n",
       "    </tr>\n",
       "    <tr>\n",
       "      <th>3</th>\n",
       "      <td>4.6</td>\n",
       "      <td>3.1</td>\n",
       "      <td>1.5</td>\n",
       "      <td>0.2</td>\n",
       "      <td>Setosa</td>\n",
       "    </tr>\n",
       "    <tr>\n",
       "      <th>4</th>\n",
       "      <td>5.0</td>\n",
       "      <td>3.6</td>\n",
       "      <td>1.4</td>\n",
       "      <td>0.2</td>\n",
       "      <td>Setosa</td>\n",
       "    </tr>\n",
       "  </tbody>\n",
       "</table>\n",
       "</div>"
      ],
      "text/plain": [
       "   sepal.length  sepal.width  petal.length  petal.width variety\n",
       "0           5.1          3.5           1.4          0.2  Setosa\n",
       "1           4.9          3.0           1.4          0.2  Setosa\n",
       "2           4.7          3.2           1.3          0.2  Setosa\n",
       "3           4.6          3.1           1.5          0.2  Setosa\n",
       "4           5.0          3.6           1.4          0.2  Setosa"
      ]
     },
     "execution_count": 15,
     "metadata": {},
     "output_type": "execute_result"
    }
   ],
   "source": [
    "data=pd.read_csv(\"https://gist.githubusercontent.com/netj/8836201/raw/6f9306ad21398ea43cba4f7d537619d0e07d5ae3/iris.csv\")\n",
    "data.head(5)"
   ]
  },
  {
   "cell_type": "code",
   "execution_count": 16,
   "id": "0a229b6c",
   "metadata": {},
   "outputs": [],
   "source": [
    "y=data.variety\n",
    "x=data.drop(\"variety\",axis=1)"
   ]
  },
  {
   "cell_type": "code",
   "execution_count": 17,
   "id": "8bd43bed",
   "metadata": {},
   "outputs": [],
   "source": [
    "from sklearn import preprocessing\n",
    "label_encoder = preprocessing.LabelEncoder() \n",
    "y= label_encoder.fit_transform(y)"
   ]
  },
  {
   "cell_type": "code",
   "execution_count": 19,
   "id": "0149f70e",
   "metadata": {},
   "outputs": [],
   "source": [
    "from keras.models import Sequential\n",
    "from tensorflow.keras import layers"
   ]
  },
  {
   "cell_type": "code",
   "execution_count": 20,
   "id": "3ff5f589",
   "metadata": {},
   "outputs": [],
   "source": [
    "model=Sequential()\n",
    "model.add(layers.Dense(8,input_dim=4,activation='relu'))\n",
    "model.add(layers.Dense(32,activation='relu'))\n",
    "model.add(layers.Dense(3,activation='relu'))\n",
    "model.compile(loss='binary_crossentropy',optimizer='adam',metrics=['accuracy'])"
   ]
  },
  {
   "cell_type": "code",
   "execution_count": 21,
   "id": "74ba8d38",
   "metadata": {},
   "outputs": [
    {
     "name": "stdout",
     "output_type": "stream",
     "text": [
      "Epoch 1/50\n",
      "5/5 [==============================] - 1s 3ms/step - loss: 8.7817 - accuracy: 0.3333\n",
      "Epoch 2/50\n",
      "5/5 [==============================] - 0s 4ms/step - loss: 5.3093 - accuracy: 0.3267\n",
      "Epoch 3/50\n",
      "5/5 [==============================] - 0s 4ms/step - loss: 4.2529 - accuracy: 0.3267\n",
      "Epoch 4/50\n",
      "5/5 [==============================] - 0s 3ms/step - loss: 3.9690 - accuracy: 0.3133\n",
      "Epoch 5/50\n",
      "5/5 [==============================] - 0s 3ms/step - loss: 3.7027 - accuracy: 0.1400\n",
      "Epoch 6/50\n",
      "5/5 [==============================] - 0s 6ms/step - loss: 2.7982 - accuracy: 0.2600\n",
      "Epoch 7/50\n",
      "5/5 [==============================] - 0s 4ms/step - loss: 2.9624 - accuracy: 0.3333\n",
      "Epoch 8/50\n",
      "5/5 [==============================] - 0s 3ms/step - loss: 2.4948 - accuracy: 0.3333\n",
      "Epoch 9/50\n",
      "5/5 [==============================] - 0s 4ms/step - loss: 2.2276 - accuracy: 0.3467\n",
      "Epoch 10/50\n",
      "5/5 [==============================] - 0s 4ms/step - loss: 2.3163 - accuracy: 0.3733\n",
      "Epoch 11/50\n",
      "5/5 [==============================] - 0s 4ms/step - loss: 2.1875 - accuracy: 0.3800\n",
      "Epoch 12/50\n",
      "5/5 [==============================] - 0s 4ms/step - loss: 2.1150 - accuracy: 0.3800\n",
      "Epoch 13/50\n",
      "5/5 [==============================] - 0s 8ms/step - loss: 2.1184 - accuracy: 0.3467\n",
      "Epoch 14/50\n",
      "5/5 [==============================] - 0s 4ms/step - loss: 2.1193 - accuracy: 0.3400\n",
      "Epoch 15/50\n",
      "5/5 [==============================] - 0s 5ms/step - loss: 2.1266 - accuracy: 0.3333\n",
      "Epoch 16/50\n",
      "5/5 [==============================] - 0s 4ms/step - loss: 2.1473 - accuracy: 0.3333\n",
      "Epoch 17/50\n",
      "5/5 [==============================] - 0s 4ms/step - loss: 2.0814 - accuracy: 0.3333\n",
      "Epoch 18/50\n",
      "5/5 [==============================] - 0s 4ms/step - loss: 2.0594 - accuracy: 0.3333\n",
      "Epoch 19/50\n",
      "5/5 [==============================] - 0s 5ms/step - loss: 2.0413 - accuracy: 0.3333\n",
      "Epoch 20/50\n",
      "5/5 [==============================] - 0s 11ms/step - loss: 2.0470 - accuracy: 0.3333\n",
      "Epoch 21/50\n",
      "5/5 [==============================] - 0s 3ms/step - loss: 2.0099 - accuracy: 0.3267\n",
      "Epoch 22/50\n",
      "5/5 [==============================] - 0s 2ms/step - loss: 1.9981 - accuracy: 0.3267\n",
      "Epoch 23/50\n",
      "5/5 [==============================] - 0s 3ms/step - loss: 2.0088 - accuracy: 0.3267\n",
      "Epoch 24/50\n",
      "5/5 [==============================] - 0s 4ms/step - loss: 1.9819 - accuracy: 0.3267\n",
      "Epoch 25/50\n",
      "5/5 [==============================] - 0s 4ms/step - loss: 2.0396 - accuracy: 0.3133\n",
      "Epoch 26/50\n",
      "5/5 [==============================] - 0s 4ms/step - loss: 1.9969 - accuracy: 0.1400\n",
      "Epoch 27/50\n",
      "5/5 [==============================] - 0s 3ms/step - loss: 2.0276 - accuracy: 0.2867\n",
      "Epoch 28/50\n",
      "5/5 [==============================] - 0s 3ms/step - loss: 2.0406 - accuracy: 0.3333\n",
      "Epoch 29/50\n",
      "5/5 [==============================] - 0s 3ms/step - loss: 2.0632 - accuracy: 0.3333\n",
      "Epoch 30/50\n",
      "5/5 [==============================] - 0s 3ms/step - loss: 2.0494 - accuracy: 0.3333\n",
      "Epoch 31/50\n",
      "5/5 [==============================] - 0s 4ms/step - loss: 2.0127 - accuracy: 0.3200\n",
      "Epoch 32/50\n",
      "5/5 [==============================] - 0s 4ms/step - loss: 1.9973 - accuracy: 0.2533\n",
      "Epoch 33/50\n",
      "5/5 [==============================] - 0s 4ms/step - loss: 1.9832 - accuracy: 0.1533\n",
      "Epoch 34/50\n",
      "5/5 [==============================] - 0s 3ms/step - loss: 1.9707 - accuracy: 0.1200\n",
      "Epoch 35/50\n",
      "5/5 [==============================] - 0s 3ms/step - loss: 1.9606 - accuracy: 0.0933\n",
      "Epoch 36/50\n",
      "5/5 [==============================] - 0s 4ms/step - loss: 1.9498 - accuracy: 0.0533\n",
      "Epoch 37/50\n",
      "5/5 [==============================] - 0s 4ms/step - loss: 1.9415 - accuracy: 0.0600\n",
      "Epoch 38/50\n",
      "5/5 [==============================] - 0s 3ms/step - loss: 1.9346 - accuracy: 0.0400\n",
      "Epoch 39/50\n",
      "5/5 [==============================] - 0s 4ms/step - loss: 1.9277 - accuracy: 0.0533\n",
      "Epoch 40/50\n",
      "5/5 [==============================] - 0s 3ms/step - loss: 1.9223 - accuracy: 0.0467\n",
      "Epoch 41/50\n",
      "5/5 [==============================] - 0s 3ms/step - loss: 1.9169 - accuracy: 0.0733\n",
      "Epoch 42/50\n",
      "5/5 [==============================] - 0s 3ms/step - loss: 1.9124 - accuracy: 0.0800\n",
      "Epoch 43/50\n",
      "5/5 [==============================] - 0s 4ms/step - loss: 1.9306 - accuracy: 0.1733\n",
      "Epoch 44/50\n",
      "5/5 [==============================] - 0s 3ms/step - loss: 1.9117 - accuracy: 0.2467\n",
      "Epoch 45/50\n",
      "5/5 [==============================] - 0s 3ms/step - loss: 1.9105 - accuracy: 0.3000\n",
      "Epoch 46/50\n",
      "5/5 [==============================] - 0s 3ms/step - loss: 1.8881 - accuracy: 0.3267\n",
      "Epoch 47/50\n",
      "5/5 [==============================] - 0s 3ms/step - loss: 1.8867 - accuracy: 0.3267\n",
      "Epoch 48/50\n",
      "5/5 [==============================] - 0s 3ms/step - loss: 1.8836 - accuracy: 0.3267\n",
      "Epoch 49/50\n",
      "5/5 [==============================] - 0s 3ms/step - loss: 1.8801 - accuracy: 0.3267\n",
      "Epoch 50/50\n",
      "5/5 [==============================] - 0s 3ms/step - loss: 1.8762 - accuracy: 0.3267\n"
     ]
    },
    {
     "data": {
      "text/plain": [
       "<keras.callbacks.History at 0x1e108a732e0>"
      ]
     },
     "execution_count": 21,
     "metadata": {},
     "output_type": "execute_result"
    }
   ],
   "source": [
    "model.fit(x,y,epochs=50)"
   ]
  },
  {
   "cell_type": "code",
   "execution_count": 23,
   "id": "9679eb59",
   "metadata": {},
   "outputs": [
    {
     "name": "stdout",
     "output_type": "stream",
     "text": [
      "5/5 [==============================] - 0s 3ms/step - loss: 1.8960 - accuracy: 0.3267\n"
     ]
    },
    {
     "data": {
      "text/plain": [
       "[1.895970106124878, 0.3266666531562805]"
      ]
     },
     "execution_count": 23,
     "metadata": {},
     "output_type": "execute_result"
    }
   ],
   "source": [
    "model.evaluate(x,y)"
   ]
  }
 ],
 "metadata": {
  "kernelspec": {
   "display_name": "Python 3 (ipykernel)",
   "language": "python",
   "name": "python3"
  },
  "language_info": {
   "codemirror_mode": {
    "name": "ipython",
    "version": 3
   },
   "file_extension": ".py",
   "mimetype": "text/x-python",
   "name": "python",
   "nbconvert_exporter": "python",
   "pygments_lexer": "ipython3",
   "version": "3.9.7"
  }
 },
 "nbformat": 4,
 "nbformat_minor": 5
}
